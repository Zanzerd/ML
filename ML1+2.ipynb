{
 "cells": [
  {
   "cell_type": "markdown",
   "metadata": {},
   "source": [
    "### Загружаем первый датасет - юниты из Heroes of Might and Magic III\n"
   ]
  },
  {
   "cell_type": "code",
   "execution_count": 146,
   "metadata": {},
   "outputs": [],
   "source": [
    "import pandas as pd\n",
    "import matplotlib.pyplot as mplp\n",
    "import seaborn as sn\n",
    "import sklearn \n",
    "\n",
    "H3_file_path = \"C:\\\\Users\\\\Pankratz\\\\Desktop\\\\ML\\\\Datasets\\\\H3Units.csv\"\n",
    "H3_data = pd.read_csv(H3_file_path)"
   ]
  },
  {
   "cell_type": "code",
   "execution_count": 147,
   "metadata": {},
   "outputs": [
    {
     "data": {
      "text/html": [
       "<div>\n",
       "<style scoped>\n",
       "    .dataframe tbody tr th:only-of-type {\n",
       "        vertical-align: middle;\n",
       "    }\n",
       "\n",
       "    .dataframe tbody tr th {\n",
       "        vertical-align: top;\n",
       "    }\n",
       "\n",
       "    .dataframe thead th {\n",
       "        text-align: right;\n",
       "    }\n",
       "</style>\n",
       "<table border=\"1\" class=\"dataframe\">\n",
       "  <thead>\n",
       "    <tr style=\"text-align: right;\">\n",
       "      <th></th>\n",
       "      <th>Unit_name</th>\n",
       "      <th>Castle</th>\n",
       "      <th>Level</th>\n",
       "      <th>Attack</th>\n",
       "      <th>Defence</th>\n",
       "      <th>Minimum Damage</th>\n",
       "      <th>Maximum Damage</th>\n",
       "      <th>Health</th>\n",
       "      <th>Speed</th>\n",
       "      <th>Growth</th>\n",
       "      <th>AI_Value</th>\n",
       "      <th>Gold</th>\n",
       "      <th>Additional_item</th>\n",
       "      <th>Special_abilities</th>\n",
       "    </tr>\n",
       "  </thead>\n",
       "  <tbody>\n",
       "    <tr>\n",
       "      <th>0</th>\n",
       "      <td>Pikeman</td>\n",
       "      <td>Castle</td>\n",
       "      <td>1</td>\n",
       "      <td>4</td>\n",
       "      <td>5</td>\n",
       "      <td>1</td>\n",
       "      <td>3</td>\n",
       "      <td>10</td>\n",
       "      <td>4</td>\n",
       "      <td>14</td>\n",
       "      <td>80</td>\n",
       "      <td>60</td>\n",
       "      <td>0</td>\n",
       "      <td>Immunetojousting</td>\n",
       "    </tr>\n",
       "    <tr>\n",
       "      <th>1</th>\n",
       "      <td>Halberdier</td>\n",
       "      <td>Castle</td>\n",
       "      <td>1+</td>\n",
       "      <td>6</td>\n",
       "      <td>5</td>\n",
       "      <td>2</td>\n",
       "      <td>3</td>\n",
       "      <td>10</td>\n",
       "      <td>5</td>\n",
       "      <td>14</td>\n",
       "      <td>115</td>\n",
       "      <td>75</td>\n",
       "      <td>0</td>\n",
       "      <td>Immunetojousting</td>\n",
       "    </tr>\n",
       "    <tr>\n",
       "      <th>2</th>\n",
       "      <td>Archer</td>\n",
       "      <td>Castle</td>\n",
       "      <td>2</td>\n",
       "      <td>6</td>\n",
       "      <td>3</td>\n",
       "      <td>2</td>\n",
       "      <td>3</td>\n",
       "      <td>10</td>\n",
       "      <td>4</td>\n",
       "      <td>9</td>\n",
       "      <td>126</td>\n",
       "      <td>100</td>\n",
       "      <td>0</td>\n",
       "      <td>Ranged(12shots)</td>\n",
       "    </tr>\n",
       "    <tr>\n",
       "      <th>3</th>\n",
       "      <td>Marksman</td>\n",
       "      <td>Castle</td>\n",
       "      <td>2+</td>\n",
       "      <td>6</td>\n",
       "      <td>3</td>\n",
       "      <td>2</td>\n",
       "      <td>3</td>\n",
       "      <td>10</td>\n",
       "      <td>6</td>\n",
       "      <td>9</td>\n",
       "      <td>184</td>\n",
       "      <td>150</td>\n",
       "      <td>0</td>\n",
       "      <td>Ranged(24shots),Doubleattack</td>\n",
       "    </tr>\n",
       "    <tr>\n",
       "      <th>4</th>\n",
       "      <td>Griffin</td>\n",
       "      <td>Castle</td>\n",
       "      <td>3</td>\n",
       "      <td>8</td>\n",
       "      <td>8</td>\n",
       "      <td>3</td>\n",
       "      <td>6</td>\n",
       "      <td>25</td>\n",
       "      <td>6</td>\n",
       "      <td>7</td>\n",
       "      <td>351</td>\n",
       "      <td>200</td>\n",
       "      <td>0</td>\n",
       "      <td>Flying,Tworetaliations</td>\n",
       "    </tr>\n",
       "  </tbody>\n",
       "</table>\n",
       "</div>"
      ],
      "text/plain": [
       "    Unit_name  Castle Level  Attack  Defence  Minimum Damage  Maximum Damage  \\\n",
       "0     Pikeman  Castle     1       4        5               1               3   \n",
       "1  Halberdier  Castle    1+       6        5               2               3   \n",
       "2      Archer  Castle     2       6        3               2               3   \n",
       "3    Marksman  Castle    2+       6        3               2               3   \n",
       "4     Griffin  Castle     3       8        8               3               6   \n",
       "\n",
       "   Health  Speed  Growth  AI_Value  Gold Additional_item  \\\n",
       "0      10      4      14        80    60               0   \n",
       "1      10      5      14       115    75               0   \n",
       "2      10      4       9       126   100               0   \n",
       "3      10      6       9       184   150               0   \n",
       "4      25      6       7       351   200               0   \n",
       "\n",
       "              Special_abilities  \n",
       "0              Immunetojousting  \n",
       "1              Immunetojousting  \n",
       "2               Ranged(12shots)  \n",
       "3  Ranged(24shots),Doubleattack  \n",
       "4        Flying,Tworetaliations  "
      ]
     },
     "execution_count": 147,
     "metadata": {},
     "output_type": "execute_result"
    }
   ],
   "source": [
    "H3_data.head()"
   ]
  },
  {
   "cell_type": "code",
   "execution_count": 148,
   "metadata": {},
   "outputs": [
    {
     "data": {
      "text/html": [
       "<div>\n",
       "<style scoped>\n",
       "    .dataframe tbody tr th:only-of-type {\n",
       "        vertical-align: middle;\n",
       "    }\n",
       "\n",
       "    .dataframe tbody tr th {\n",
       "        vertical-align: top;\n",
       "    }\n",
       "\n",
       "    .dataframe thead th {\n",
       "        text-align: right;\n",
       "    }\n",
       "</style>\n",
       "<table border=\"1\" class=\"dataframe\">\n",
       "  <thead>\n",
       "    <tr style=\"text-align: right;\">\n",
       "      <th></th>\n",
       "      <th>Attack</th>\n",
       "      <th>Defence</th>\n",
       "      <th>Minimum Damage</th>\n",
       "      <th>Maximum Damage</th>\n",
       "      <th>Health</th>\n",
       "      <th>Speed</th>\n",
       "      <th>Growth</th>\n",
       "      <th>AI_Value</th>\n",
       "      <th>Gold</th>\n",
       "    </tr>\n",
       "  </thead>\n",
       "  <tbody>\n",
       "    <tr>\n",
       "      <th>count</th>\n",
       "      <td>141.000000</td>\n",
       "      <td>141.000000</td>\n",
       "      <td>141.000000</td>\n",
       "      <td>141.000000</td>\n",
       "      <td>141.000000</td>\n",
       "      <td>141.000000</td>\n",
       "      <td>141.000000</td>\n",
       "      <td>141.000000</td>\n",
       "      <td>141.000000</td>\n",
       "    </tr>\n",
       "    <tr>\n",
       "      <th>mean</th>\n",
       "      <td>11.659574</td>\n",
       "      <td>10.843972</td>\n",
       "      <td>11.262411</td>\n",
       "      <td>15.992908</td>\n",
       "      <td>78.085106</td>\n",
       "      <td>7.418440</td>\n",
       "      <td>5.730496</td>\n",
       "      <td>2417.624113</td>\n",
       "      <td>1236.489362</td>\n",
       "    </tr>\n",
       "    <tr>\n",
       "      <th>std</th>\n",
       "      <td>6.992680</td>\n",
       "      <td>7.207420</td>\n",
       "      <td>13.339868</td>\n",
       "      <td>16.784132</td>\n",
       "      <td>138.142136</td>\n",
       "      <td>3.466484</td>\n",
       "      <td>4.702400</td>\n",
       "      <td>7908.489944</td>\n",
       "      <td>3403.613560</td>\n",
       "    </tr>\n",
       "    <tr>\n",
       "      <th>min</th>\n",
       "      <td>1.000000</td>\n",
       "      <td>1.000000</td>\n",
       "      <td>1.000000</td>\n",
       "      <td>1.000000</td>\n",
       "      <td>1.000000</td>\n",
       "      <td>3.000000</td>\n",
       "      <td>1.000000</td>\n",
       "      <td>15.000000</td>\n",
       "      <td>10.000000</td>\n",
       "    </tr>\n",
       "    <tr>\n",
       "      <th>25%</th>\n",
       "      <td>7.000000</td>\n",
       "      <td>6.000000</td>\n",
       "      <td>2.000000</td>\n",
       "      <td>4.000000</td>\n",
       "      <td>15.000000</td>\n",
       "      <td>5.000000</td>\n",
       "      <td>2.000000</td>\n",
       "      <td>203.000000</td>\n",
       "      <td>150.000000</td>\n",
       "    </tr>\n",
       "    <tr>\n",
       "      <th>50%</th>\n",
       "      <td>10.000000</td>\n",
       "      <td>10.000000</td>\n",
       "      <td>6.000000</td>\n",
       "      <td>9.000000</td>\n",
       "      <td>30.000000</td>\n",
       "      <td>7.000000</td>\n",
       "      <td>4.000000</td>\n",
       "      <td>517.000000</td>\n",
       "      <td>350.000000</td>\n",
       "    </tr>\n",
       "    <tr>\n",
       "      <th>75%</th>\n",
       "      <td>15.000000</td>\n",
       "      <td>13.000000</td>\n",
       "      <td>15.000000</td>\n",
       "      <td>20.000000</td>\n",
       "      <td>75.000000</td>\n",
       "      <td>9.000000</td>\n",
       "      <td>8.000000</td>\n",
       "      <td>1547.000000</td>\n",
       "      <td>850.000000</td>\n",
       "    </tr>\n",
       "    <tr>\n",
       "      <th>max</th>\n",
       "      <td>50.000000</td>\n",
       "      <td>50.000000</td>\n",
       "      <td>70.000000</td>\n",
       "      <td>80.000000</td>\n",
       "      <td>1000.000000</td>\n",
       "      <td>21.000000</td>\n",
       "      <td>25.000000</td>\n",
       "      <td>78845.000000</td>\n",
       "      <td>30000.000000</td>\n",
       "    </tr>\n",
       "  </tbody>\n",
       "</table>\n",
       "</div>"
      ],
      "text/plain": [
       "           Attack     Defence  Minimum Damage  Maximum Damage       Health  \\\n",
       "count  141.000000  141.000000      141.000000      141.000000   141.000000   \n",
       "mean    11.659574   10.843972       11.262411       15.992908    78.085106   \n",
       "std      6.992680    7.207420       13.339868       16.784132   138.142136   \n",
       "min      1.000000    1.000000        1.000000        1.000000     1.000000   \n",
       "25%      7.000000    6.000000        2.000000        4.000000    15.000000   \n",
       "50%     10.000000   10.000000        6.000000        9.000000    30.000000   \n",
       "75%     15.000000   13.000000       15.000000       20.000000    75.000000   \n",
       "max     50.000000   50.000000       70.000000       80.000000  1000.000000   \n",
       "\n",
       "            Speed      Growth      AI_Value          Gold  \n",
       "count  141.000000  141.000000    141.000000    141.000000  \n",
       "mean     7.418440    5.730496   2417.624113   1236.489362  \n",
       "std      3.466484    4.702400   7908.489944   3403.613560  \n",
       "min      3.000000    1.000000     15.000000     10.000000  \n",
       "25%      5.000000    2.000000    203.000000    150.000000  \n",
       "50%      7.000000    4.000000    517.000000    350.000000  \n",
       "75%      9.000000    8.000000   1547.000000    850.000000  \n",
       "max     21.000000   25.000000  78845.000000  30000.000000  "
      ]
     },
     "execution_count": 148,
     "metadata": {},
     "output_type": "execute_result"
    }
   ],
   "source": [
    "H3_data.describe()"
   ]
  },
  {
   "cell_type": "markdown",
   "metadata": {},
   "source": [
    "***Проверим, есть ли колонки с отсутствующими значениями.***"
   ]
  },
  {
   "cell_type": "code",
   "execution_count": 149,
   "metadata": {},
   "outputs": [
    {
     "name": "stdout",
     "output_type": "stream",
     "text": [
      "[]\n"
     ]
    }
   ],
   "source": [
    "cols_with_missing = [col for col in H3_data.columns\n",
    "                     if H3_data[col].isnull().any()]\n",
    "print(cols_with_missing)"
   ]
  },
  {
   "cell_type": "markdown",
   "metadata": {},
   "source": [
    "***Удалим не интересующие нас атрибуты***"
   ]
  },
  {
   "cell_type": "code",
   "execution_count": 150,
   "metadata": {},
   "outputs": [],
   "source": [
    "H3_data = H3_data.drop(['Special_abilities', 'Additional_item'], axis = 1)"
   ]
  },
  {
   "cell_type": "markdown",
   "metadata": {},
   "source": [
    "***Покажем как варьируется параметр \"Атака\" у различных юнитов 7-го уровня***"
   ]
  },
  {
   "cell_type": "code",
   "execution_count": 151,
   "metadata": {},
   "outputs": [
    {
     "data": {
      "image/png": "[encoded data removed]",
      "text/plain": [
       "<Figure size 432x288 with 1 Axes>"
      ]
     },
     "metadata": {
      "needs_background": "light"
     },
     "output_type": "display_data"
    }
   ],
   "source": [
    "slevels = H3_data[H3_data['Level'] == '7+']\n",
    "Attack = slevels['Attack'].values.tolist()\n",
    "Names = slevels['Unit_name'].values.tolist()\n",
    "mplp.barh(Names, Attack)\n",
    "mplp.xlabel('Атака')\n",
    "mplp.show()"
   ]
  },
  {
   "cell_type": "code",
   "execution_count": 152,
   "metadata": {},
   "outputs": [
    {
     "data": {
      "image/png": "[encoded data removed]",
      "text/plain": [
       "<Figure size 432x288 with 1 Axes>"
      ]
     },
     "metadata": {
      "needs_background": "light"
     },
     "output_type": "display_data"
    }
   ],
   "source": [
    "Defence = slevels['Defence'].values.tolist()\n",
    "\n",
    "mplp.scatter(Attack, Defence)\n",
    "for label, atk, dfc in zip(Names, Attack, Defence):\n",
    "    mplp.annotate(label, xy = (atk, dfc), xytext = (5, -5), textcoords = 'offset points')\n",
    "\n",
    "mplp.title(\"Соотношение показателей атаки и защиты у юнитов 7-го уровня\")\n",
    "mplp.xlabel(\"Атака\")\n",
    "mplp.ylabel(\"Защита\")\n",
    "mplp.show()"
   ]
  },
  {
   "cell_type": "markdown",
   "metadata": {},
   "source": [
    "***Выберем стоимость в золоте в качестве целевого признака***\n",
    "\n",
    "И выведем из корелляционной матрицы атрибутов столбец, отвечающий за целевой признак"
   ]
  },
  {
   "cell_type": "code",
   "execution_count": 153,
   "metadata": {},
   "outputs": [
    {
     "data": {
      "image/png": "[encoded data removed]",
      "text/plain": [
       "<Figure size 432x288 with 2 Axes>"
      ]
     },
     "metadata": {
      "needs_background": "light"
     },
     "output_type": "display_data"
    }
   ],
   "source": [
    "corrMatrix = H3_data.corr()\n",
    "row = corrMatrix[['Gold']]\n",
    "sn.heatmap(row, annot=True)\n",
    "mplp.show()"
   ]
  },
  {
   "cell_type": "code",
   "execution_count": 154,
   "metadata": {},
   "outputs": [],
   "source": [
    "y = H3_data.Gold\n",
    "X_values = ['Attack', 'Defence', 'Minimum Damage', 'Maximum Damage', 'Health', 'Speed', 'Growth']\n",
    "X = H3_data[X_values] #Не берём AI_Value поскольку на языке игры это примерно то же самое, что и стоимость"
   ]
  },
  {
   "cell_type": "markdown",
   "metadata": {},
   "source": [
    "***Построим простую модель линейной регрессии c L2-регуляризацией для приблизительного выявления зависимости целевого признака от остальных выбранных признаков***"
   ]
  },
  {
   "cell_type": "code",
   "execution_count": 155,
   "metadata": {},
   "outputs": [
    {
     "name": "stdout",
     "output_type": "stream",
     "text": [
      "MAE на обучающей выборке:  377.55816654757945\n",
      "MAE на тестовой выборке:  493.1541818326425\n",
      "Среднее значение в колонке 'Gold':  1236.4893617021276\n"
     ]
    }
   ],
   "source": [
    "from sklearn.model_selection import train_test_split\n",
    "from sklearn.linear_model import Ridge\n",
    "from sklearn.metrics import mean_absolute_error\n",
    "\n",
    "train_X, val_X, train_y, val_y = train_test_split(X, y, random_state = 0)\n",
    "\n",
    "H3_model = Ridge() #обычная LinearRegression(), кажется, переобучалась\n",
    "H3_model.fit(train_X, train_y)\n",
    "train_predictions = H3_model.predict(train_X)\n",
    "print(\"MAE на обучающей выборке: \", mean_absolute_error(train_y, train_predictions))\n",
    "\n",
    "val_predictions = H3_model.predict(val_X)\n",
    "print(\"MAE на тестовой выборке: \", mean_absolute_error(val_y, val_predictions))\n",
    "\n",
    "print(\"Среднее значение в колонке 'Gold': \", H3_data.Gold.mean())\n"
   ]
  },
  {
   "cell_type": "markdown",
   "metadata": {},
   "source": [
    "### Загружаем следующий датасет - треки из Spotify  "
   ]
  },
  {
   "cell_type": "code",
   "execution_count": 156,
   "metadata": {},
   "outputs": [
    {
     "data": {
      "text/plain": [
       "genre                object\n",
       "artist_name          object\n",
       "track_name           object\n",
       "track_id             object\n",
       "popularity            int64\n",
       "acousticness        float64\n",
       "danceability        float64\n",
       "duration_ms           int64\n",
       "energy              float64\n",
       "instrumentalness    float64\n",
       "key                  object\n",
       "liveness            float64\n",
       "loudness            float64\n",
       "mode                 object\n",
       "speechiness         float64\n",
       "tempo               float64\n",
       "time_signature       object\n",
       "valence             float64\n",
       "dtype: object"
      ]
     },
     "execution_count": 156,
     "metadata": {},
     "output_type": "execute_result"
    }
   ],
   "source": [
    "import pandas as pd\n",
    "import matplotlib.pyplot as mplp\n",
    "import seaborn as sn\n",
    "import sklearn \n",
    "\n",
    "Music_file_path = \"C:\\\\Users\\\\Pankratz\\\\Desktop\\\\ML\\\\Datasets\\\\SpotifyFeatures.csv\"\n",
    "Music_data = pd.read_csv(Music_file_path)\n",
    "Music_data.head()\n",
    "Music_data.dtypes"
   ]
  },
  {
   "cell_type": "markdown",
   "metadata": {},
   "source": [
    "***Поставим задачу классификации***\n",
    "\n",
    "Пусть мы хотим отнести трек к тому или иному жанру (то есть выбираем genre как целевой признак) в зависимости от некоторых других признаков. Нам точно не понадобятся колонки track id, key, artist name и track name (хоть последние две и могли бы быть полезны, они заполнены слишком большим количеством уникальных значений категориальных признаков), но предположим, что нам понадобятся остальные колонки. В таком случае, нам необходимо будет закодировать оставшиеся категориальные признаки, используя One-Hot Encoding. Для колонки genre применим Label Encoding.\n",
    "\n"
   ]
  },
  {
   "cell_type": "code",
   "execution_count": 157,
   "metadata": {},
   "outputs": [
    {
     "data": {
      "text/html": [
       "<div>\n",
       "<style scoped>\n",
       "    .dataframe tbody tr th:only-of-type {\n",
       "        vertical-align: middle;\n",
       "    }\n",
       "\n",
       "    .dataframe tbody tr th {\n",
       "        vertical-align: top;\n",
       "    }\n",
       "\n",
       "    .dataframe thead th {\n",
       "        text-align: right;\n",
       "    }\n",
       "</style>\n",
       "<table border=\"1\" class=\"dataframe\">\n",
       "  <thead>\n",
       "    <tr style=\"text-align: right;\">\n",
       "      <th></th>\n",
       "      <th>genre</th>\n",
       "      <th>popularity</th>\n",
       "      <th>acousticness</th>\n",
       "      <th>danceability</th>\n",
       "      <th>duration_ms</th>\n",
       "      <th>energy</th>\n",
       "      <th>instrumentalness</th>\n",
       "      <th>key</th>\n",
       "      <th>liveness</th>\n",
       "      <th>loudness</th>\n",
       "      <th>mode</th>\n",
       "      <th>speechiness</th>\n",
       "      <th>tempo</th>\n",
       "      <th>time_signature</th>\n",
       "      <th>valence</th>\n",
       "    </tr>\n",
       "  </thead>\n",
       "  <tbody>\n",
       "    <tr>\n",
       "      <th>0</th>\n",
       "      <td>Movie</td>\n",
       "      <td>0.00</td>\n",
       "      <td>0.611</td>\n",
       "      <td>0.389</td>\n",
       "      <td>1.656217</td>\n",
       "      <td>0.910</td>\n",
       "      <td>0.000</td>\n",
       "      <td>C#</td>\n",
       "      <td>0.3460</td>\n",
       "      <td>0.1828</td>\n",
       "      <td>Major</td>\n",
       "      <td>0.0525</td>\n",
       "      <td>1.66969</td>\n",
       "      <td>4/4</td>\n",
       "      <td>0.814</td>\n",
       "    </tr>\n",
       "    <tr>\n",
       "      <th>1</th>\n",
       "      <td>Movie</td>\n",
       "      <td>0.01</td>\n",
       "      <td>0.246</td>\n",
       "      <td>0.590</td>\n",
       "      <td>2.289550</td>\n",
       "      <td>0.737</td>\n",
       "      <td>0.000</td>\n",
       "      <td>F#</td>\n",
       "      <td>0.1510</td>\n",
       "      <td>0.5559</td>\n",
       "      <td>Minor</td>\n",
       "      <td>0.0868</td>\n",
       "      <td>1.74003</td>\n",
       "      <td>4/4</td>\n",
       "      <td>0.816</td>\n",
       "    </tr>\n",
       "    <tr>\n",
       "      <th>2</th>\n",
       "      <td>Movie</td>\n",
       "      <td>0.03</td>\n",
       "      <td>0.952</td>\n",
       "      <td>0.663</td>\n",
       "      <td>2.837783</td>\n",
       "      <td>0.131</td>\n",
       "      <td>0.000</td>\n",
       "      <td>C</td>\n",
       "      <td>0.1030</td>\n",
       "      <td>1.3879</td>\n",
       "      <td>Minor</td>\n",
       "      <td>0.0362</td>\n",
       "      <td>0.99488</td>\n",
       "      <td>5/4</td>\n",
       "      <td>0.368</td>\n",
       "    </tr>\n",
       "    <tr>\n",
       "      <th>3</th>\n",
       "      <td>Movie</td>\n",
       "      <td>0.00</td>\n",
       "      <td>0.703</td>\n",
       "      <td>0.240</td>\n",
       "      <td>2.540450</td>\n",
       "      <td>0.326</td>\n",
       "      <td>0.000</td>\n",
       "      <td>C#</td>\n",
       "      <td>0.0985</td>\n",
       "      <td>1.2178</td>\n",
       "      <td>Major</td>\n",
       "      <td>0.0395</td>\n",
       "      <td>1.71758</td>\n",
       "      <td>4/4</td>\n",
       "      <td>0.227</td>\n",
       "    </tr>\n",
       "    <tr>\n",
       "      <th>4</th>\n",
       "      <td>Movie</td>\n",
       "      <td>0.04</td>\n",
       "      <td>0.950</td>\n",
       "      <td>0.331</td>\n",
       "      <td>1.377083</td>\n",
       "      <td>0.225</td>\n",
       "      <td>0.123</td>\n",
       "      <td>F</td>\n",
       "      <td>0.2020</td>\n",
       "      <td>2.1150</td>\n",
       "      <td>Major</td>\n",
       "      <td>0.0456</td>\n",
       "      <td>1.40576</td>\n",
       "      <td>4/4</td>\n",
       "      <td>0.390</td>\n",
       "    </tr>\n",
       "  </tbody>\n",
       "</table>\n",
       "</div>"
      ],
      "text/plain": [
       "   genre  popularity  acousticness  danceability  duration_ms  energy  \\\n",
       "0  Movie        0.00         0.611         0.389     1.656217   0.910   \n",
       "1  Movie        0.01         0.246         0.590     2.289550   0.737   \n",
       "2  Movie        0.03         0.952         0.663     2.837783   0.131   \n",
       "3  Movie        0.00         0.703         0.240     2.540450   0.326   \n",
       "4  Movie        0.04         0.950         0.331     1.377083   0.225   \n",
       "\n",
       "   instrumentalness key  liveness  loudness   mode  speechiness    tempo  \\\n",
       "0             0.000  C#    0.3460    0.1828  Major       0.0525  1.66969   \n",
       "1             0.000  F#    0.1510    0.5559  Minor       0.0868  1.74003   \n",
       "2             0.000   C    0.1030    1.3879  Minor       0.0362  0.99488   \n",
       "3             0.000  C#    0.0985    1.2178  Major       0.0395  1.71758   \n",
       "4             0.123   F    0.2020    2.1150  Major       0.0456  1.40576   \n",
       "\n",
       "  time_signature  valence  \n",
       "0            4/4    0.814  \n",
       "1            4/4    0.816  \n",
       "2            5/4    0.368  \n",
       "3            4/4    0.227  \n",
       "4            4/4    0.390  "
      ]
     },
     "execution_count": 157,
     "metadata": {},
     "output_type": "execute_result"
    }
   ],
   "source": [
    "from sklearn.preprocessing import StandardScaler\n",
    "\n",
    "Music_data = Music_data.drop(['track_id', 'artist_name', 'track_name'], axis = 1)\n",
    "Music_data[\"popularity\"] = Music_data[\"popularity\"].astype(str).astype(float)\n",
    "Music_data[\"duration_ms\"] = Music_data[\"duration_ms\"].astype(str).astype(float)\n",
    "scaler = StandardScaler()\n",
    "s = (Music_data.dtypes == 'float64') \n",
    "colsfloat = list(s[s].index)\n",
    "\n",
    "v = (Music_data.dtypes == 'object') \n",
    "colsobject = list(v[v].index)\n",
    "\n",
    "scaled_data = scaler.fit_transform(Music_data[colsfloat].values)\n",
    "temp_1 = pd.DataFrame(data = Music_data[colsobject])\n",
    "scaled_data = pd.DataFrame(data = scaled_data)\n",
    "temp_2 = scaled_data.join(temp_1)\n",
    "\n",
    "scaled_Music_data = pd.DataFrame(data = temp_2, index = Music_data.index, columns = Music_data.columns)\n",
    "\n",
    "Music_data.duration_ms = Music_data.duration_ms / 60000\n",
    "Music_data.tempo = Music_data.tempo / 100\n",
    "Music_data.loudness = Music_data.loudness / -10\n",
    "Music_data.popularity = Music_data.popularity / 100\n",
    "\n",
    "Music_data.head()"
   ]
  },
  {
   "cell_type": "code",
   "execution_count": 158,
   "metadata": {},
   "outputs": [
    {
     "name": "stdout",
     "output_type": "stream",
     "text": [
      "Колонки с отсутствующими значениями:\n",
      "[]\n",
      "Категориальные переменные:\n",
      "['genre', 'key', 'mode', 'time_signature']\n"
     ]
    }
   ],
   "source": [
    "cols_with_missing = [col for col in Music_data.columns\n",
    "                     if Music_data[col].isnull().any()]\n",
    "print(\"Колонки с отсутствующими значениями:\")\n",
    "print(cols_with_missing)\n",
    "\n",
    "s = (Music_data.dtypes == 'object')\n",
    "object_cols = list(s[s].index)\n",
    "\n",
    "print(\"Категориальные переменные:\")\n",
    "print(object_cols)"
   ]
  },
  {
   "cell_type": "code",
   "execution_count": 159,
   "metadata": {},
   "outputs": [],
   "source": [
    "from sklearn.preprocessing import LabelEncoder\n",
    "from sklearn.model_selection import train_test_split\n",
    "\n",
    "label_encoder = LabelEncoder()\n",
    "d = label_encoder.fit(Music_data['genre'])\n",
    "le_name_mapping = dict(zip(label_encoder.classes_, label_encoder.transform(label_encoder.classes_)))\n",
    "d = label_encoder.fit_transform(Music_data['genre'])\n",
    "temp = {'genre': d}\n",
    "new_data = pd.DataFrame(data = temp)\n",
    "Music_data = Music_data.drop(['genre'], axis = 1)\n",
    "Music_data = pd.concat([new_data, Music_data], axis = 1)\n",
    "\n",
    "features = ['popularity','acousticness','danceability','duration_ms','energy','instrumentalness',\n",
    "            'liveness','loudness','mode','speechiness','tempo','valence', 'time_signature']\n",
    "X = Music_data[features].copy()\n",
    "y = Music_data.genre\n",
    "X_train, X_valid, y_train, y_valid = train_test_split(X, y, train_size=0.8, test_size=0.2,\n",
    "                                                      random_state=0)\n",
    "\n",
    "one_hot_1 = pd.get_dummies(X_train['mode'])\n",
    "one_hot_2 = pd.get_dummies(X_train['time_signature'])\n",
    "one_hot_val_1 = pd.get_dummies(X_valid['mode'])\n",
    "one_hot_val_2 = pd.get_dummies(X_valid['time_signature'])\n",
    "\n",
    "X_train = X_train.drop(['mode', 'time_signature'], axis = 1)\n",
    "X_valid = X_valid.drop(['mode', 'time_signature'], axis = 1)\n",
    "\n",
    "X_train = X_train.join([one_hot_1, one_hot_2])\n",
    "X_valid = X_valid.join([one_hot_val_1, one_hot_2])"
   ]
  },
  {
   "cell_type": "code",
   "execution_count": 160,
   "metadata": {},
   "outputs": [
    {
     "name": "stdout",
     "output_type": "stream",
     "text": [
      "{'A Capella': 0, 'Alternative': 1, 'Anime': 2, 'Blues': 3, \"Children's Music\": 4, 'Children’s Music': 5, 'Classical': 6, 'Comedy': 7, 'Country': 8, 'Dance': 9, 'Electronic': 10, 'Folk': 11, 'Hip-Hop': 12, 'Indie': 13, 'Jazz': 14, 'Movie': 15, 'Opera': 16, 'Pop': 17, 'R&B': 18, 'Rap': 19, 'Reggae': 20, 'Reggaeton': 21, 'Rock': 22, 'Ska': 23, 'Soul': 24, 'Soundtrack': 25, 'World': 26}\n"
     ]
    },
    {
     "data": {
      "text/plain": [
       "81486     16\n",
       "72431      4\n",
       "181925    15\n",
       "212906     8\n",
       "172817     7\n",
       "Name: genre, dtype: int32"
      ]
     },
     "execution_count": 160,
     "metadata": {},
     "output_type": "execute_result"
    }
   ],
   "source": [
    "print(le_name_mapping)\n",
    "y_train.head()\n"
   ]
  },
  {
   "cell_type": "markdown",
   "metadata": {},
   "source": [
    "***Проверим, что выбранные нами признаки действительно отличаются для разных музыкальных жанров***\n",
    "\n",
    "Сравним визуально гистограммы средних значений этих признаков для двух непохожих жанров (на обучающей выборке)."
   ]
  },
  {
   "cell_type": "code",
   "execution_count": 161,
   "metadata": {},
   "outputs": [
    {
     "data": {
      "text/plain": [
       "(0.0, 6.0, 0.0, 18.0)"
      ]
     },
     "execution_count": 161,
     "metadata": {},
     "output_type": "execute_result"
    },
    {
     "data": {
      "image/png": "[encoded data removed]",
      "text/plain": [
       "<Figure size 432x288 with 2 Axes>"
      ]
     },
     "metadata": {
      "needs_background": "light"
     },
     "output_type": "display_data"
    }
   ],
   "source": [
    "yClas = y_train[y_train == 6]\n",
    "xClas = X_train.loc[yClas.index].mean()\n",
    "yRap = y_train[y_train == 19]\n",
    "xRap = X_train.loc[yRap.index].mean()\n",
    "cols = list(X_train.columns)\n",
    "\n",
    "fig, (ax1, ax2) = mplp.subplots(1, 2)\n",
    "fig.suptitle('Сравнение параметров для жанров Classical и Rap')\n",
    "ax2.barh(cols, xClas, color = 'blue')\n",
    "ax1.barh(cols, xRap, color = 'red')\n",
    "ax2.set_title('Classical')\n",
    "ax1.set_title('Rap')\n",
    "ax2.label_outer()\n",
    "ax2.axis([0, 6, 0, 18])\n",
    "ax1.axis([0, 6, 0, 18])"
   ]
  },
  {
   "cell_type": "markdown",
   "metadata": {},
   "source": [
    "***Посмотрим, насколько предикторы кореллируют друг с другом***"
   ]
  },
  {
   "cell_type": "code",
   "execution_count": 162,
   "metadata": {},
   "outputs": [
    {
     "data": {
      "image/png": "[encoded data removed]",
      "text/plain": [
       "<Figure size 1440x1440 with 2 Axes>"
      ]
     },
     "metadata": {
      "needs_background": "light"
     },
     "output_type": "display_data"
    }
   ],
   "source": [
    "corrMatrix = X_train.corr()\n",
    "mplp.figure(figsize=(20,20))\n",
    "sn.heatmap(corrMatrix, linewidths=.1,cmap=\"BuPu\", annot=True)\n",
    "mplp.yticks(rotation=0);"
   ]
  },
  {
   "cell_type": "markdown",
   "metadata": {},
   "source": [
    "Данные готовы к решению на них задачи классификации. "
   ]
  },
  {
   "cell_type": "markdown",
   "metadata": {},
   "source": [
    "### Приступим к реализации алгоритмов машинного обучения"
   ]
  },
  {
   "cell_type": "markdown",
   "metadata": {},
   "source": [
    "***Алгоритм логистической регрессии***"
   ]
  },
  {
   "cell_type": "markdown",
   "metadata": {},
   "source": [
    "Поставим задачу для датасета Heroes_data: с помощью логистической регрессии предскажем, является ли то или иное существо неулучшенным существом первого уровня. Посмотрим, какие параметры кореллируют с этим наиболее сильно и выберем их в качестве предикторов."
   ]
  },
  {
   "cell_type": "code",
   "execution_count": 496,
   "metadata": {},
   "outputs": [
    {
     "data": {
      "image/png": "[encoded data removed]",
      "text/plain": [
       "<Figure size 432x288 with 2 Axes>"
      ]
     },
     "metadata": {
      "needs_background": "light"
     },
     "output_type": "display_data"
    }
   ],
   "source": [
    "import numpy as np\n",
    "\n",
    "H3_new = H3_data.copy()\n",
    "for index, row in H3_new.iterrows():\n",
    "    if row['Level'] == '1': \n",
    "        H3_new.at[index, 'Level'] = 1\n",
    "    else:\n",
    "        H3_new.at[index, 'Level'] = 0\n",
    "H3_new = H3_new.rename(columns={'Level': 'Is_level_1'})\n",
    "H3_new[\"Is_level_1\"] = H3_new[\"Is_level_1\"].astype(str).astype(int)\n",
    "\n",
    "corrMatrix = H3_new.corr()\n",
    "row = corrMatrix[['Is_level_1']]\n",
    "sn.heatmap(row, annot=True)\n",
    "mplp.show()\n"
   ]
  },
  {
   "cell_type": "code",
   "execution_count": 497,
   "metadata": {},
   "outputs": [],
   "source": [
    "X = H3_new[['Attack','Defence','Maximum Damage','Growth','Speed']]\n",
    "y = H3_new['Is_level_1']"
   ]
  },
  {
   "cell_type": "code",
   "execution_count": 498,
   "metadata": {},
   "outputs": [],
   "source": [
    "def sigmoid(x):    \n",
    "    output = 1 / (1 + np.exp(-x))\n",
    "    return output\n",
    "\n",
    "def optimize(x, y,learning_rate,iterations,parameters): \n",
    "    size = x.shape[0]\n",
    "    weight = np.asarray(parameters[\"weight\"], dtype = float)\n",
    "    bias = np.asarray(parameters[\"bias\"], dtype = float)\n",
    "    \n",
    "    for i in range(iterations): \n",
    "        sigma = sigmoid(np.dot(x, weight) + bias)\n",
    "        loss = -1/size * np.sum(y * np.log(sigma)) + (1 - y) * np.log(1-sigma)\n",
    "        dW = np.asarray(1/size * np.dot(x.T, (sigma - y)), dtype = float)\n",
    "        db = np.asarray(1/size * np.sum(sigma - y), dtype = float)\n",
    "        weight -= learning_rate * dW\n",
    "        bias -= learning_rate * db \n",
    "    \n",
    "    parameters[\"weight\"] = weight\n",
    "    parameters[\"bias\"] = bias\n",
    "    return parameters\n",
    "\n",
    "init_parameters = {} \n",
    "init_parameters[\"weight\"] = np.zeros(X.shape[1])\n",
    "init_parameters[\"bias\"] = 0\n",
    "\n",
    "def train(x, y, learning_rate,iterations):\n",
    "    parameters_out = optimize(x, y, learning_rate, iterations ,init_parameters)\n",
    "    return parameters_out\n",
    "\n",
    "def predict(parameters, x, level):\n",
    "    out_vals = np.dot(x, parameters[\"weight\"]) + parameters[\"bias\"]\n",
    "    return sigmoid(out_vals) >= level"
   ]
  },
  {
   "cell_type": "markdown",
   "metadata": {},
   "source": [
    "Разделим данные на обучающую и тестовую выборку. Затем обучим модель и сгенерируем предсказания. "
   ]
  },
  {
   "cell_type": "code",
   "execution_count": 499,
   "metadata": {},
   "outputs": [
    {
     "name": "stdout",
     "output_type": "stream",
     "text": [
      "MAE на обучающей выборке:  0.0380952380952381\n",
      "MAE на тестовой выборке:  0.05555555555555555\n"
     ]
    }
   ],
   "source": [
    "train_X, val_X, train_y, val_y = train_test_split(X, y, random_state = 0)\n",
    "\n",
    "parameters_out = train(train_X, train_y, learning_rate = 0.02, iterations = 500)\n",
    "\n",
    "preds_train = predict(parameters_out, train_X, 0.5)\n",
    "preds_val = predict(parameters_out, val_X, 0.5)\n",
    "print(\"MAE на обучающей выборке (моя модель): \", mean_absolute_error(train_y, preds_train))\n",
    "print(\"MAE на тестовой выборке (моя модель): \", mean_absolute_error(val_y, preds_val))\n"
   ]
  },
  {
   "cell_type": "code",
   "execution_count": 500,
   "metadata": {},
   "outputs": [
    {
     "name": "stdout",
     "output_type": "stream",
     "text": [
      "45\n",
      "Creature: Magog\n",
      "Prediction: False\n",
      "Right Answer: False\n",
      "60\n",
      "Creature: Wight\n",
      "Prediction: False\n",
      "Right Answer: False\n",
      "7\n",
      "Creature: Crusader\n",
      "Prediction: False\n",
      "Right Answer: False\n",
      "51\n",
      "Creature: PitLord\n",
      "Prediction: False\n",
      "Right Answer: False\n",
      "66\n",
      "Creature: BlackKnight\n",
      "Prediction: False\n",
      "Right Answer: False\n",
      "27\n",
      "Creature: GoldDragon\n",
      "Prediction: False\n",
      "Right Answer: False\n",
      "71\n",
      "Creature: InfernalTroglodyte\n",
      "Prediction: False\n",
      "Right Answer: False\n",
      "54\n",
      "Creature: Devil\n",
      "Prediction: False\n",
      "Right Answer: False\n",
      "123\n",
      "Creature: MagicElemental\n",
      "Prediction: False\n",
      "Right Answer: False\n",
      "8\n",
      "Creature: Monk\n",
      "Prediction: False\n",
      "Right Answer: False\n",
      "76\n",
      "Creature: Medusa\n",
      "Prediction: False\n",
      "Right Answer: False\n",
      "16\n",
      "Creature: Dwarf\n",
      "Prediction: False\n",
      "Right Answer: False\n",
      "125\n",
      "Creature: Phoenix\n",
      "Prediction: False\n",
      "Right Answer: False\n",
      "122\n",
      "Creature: PsychicElemental\n",
      "Prediction: False\n",
      "Right Answer: False\n",
      "124\n",
      "Creature: Firebird\n",
      "Prediction: False\n",
      "Right Answer: False\n",
      "98\n",
      "Creature: Gnoll\n",
      "Prediction: False\n",
      "Right Answer: True\n",
      "105\n",
      "Creature: GreaterBasilisk\n",
      "Prediction: False\n",
      "Right Answer: False\n",
      "83\n",
      "Creature: BlackDragon\n",
      "Prediction: False\n",
      "Right Answer: False\n",
      "33\n",
      "Creature: IronGolem\n",
      "Prediction: False\n",
      "Right Answer: False\n",
      "56\n",
      "Creature: Skeleton\n",
      "Prediction: False\n",
      "Right Answer: True\n",
      "91\n",
      "Creature: OgreMage\n",
      "Prediction: False\n",
      "Right Answer: False\n",
      "22\n",
      "Creature: DendroidGuard\n",
      "Prediction: False\n",
      "Right Answer: False\n",
      "137\n",
      "Creature: FaerieDragon\n",
      "Prediction: False\n",
      "Right Answer: False\n",
      "24\n",
      "Creature: Unicorn\n",
      "Prediction: False\n",
      "Right Answer: False\n",
      "2\n",
      "Creature: Archer\n",
      "Prediction: False\n",
      "Right Answer: False\n",
      "111\n",
      "Creature: ChaosHydra\n",
      "Prediction: False\n",
      "Right Answer: False\n",
      "26\n",
      "Creature: GreenDragon\n",
      "Prediction: False\n",
      "Right Answer: False\n",
      "121\n",
      "Creature: MagmaElemental\n",
      "Prediction: False\n",
      "Right Answer: False\n",
      "18\n",
      "Creature: WoodElf\n",
      "Prediction: False\n",
      "Right Answer: False\n",
      "10\n",
      "Creature: Cavalier\n",
      "Prediction: False\n",
      "Right Answer: False\n",
      "96\n",
      "Creature: Behemoth\n",
      "Prediction: False\n",
      "Right Answer: False\n",
      "43\n",
      "Creature: Familiar\n",
      "Prediction: False\n",
      "Right Answer: False\n",
      "100\n",
      "Creature: Lizardman\n",
      "Prediction: False\n",
      "Right Answer: False\n",
      "108\n",
      "Creature: Wyvern\n",
      "Prediction: False\n",
      "Right Answer: False\n",
      "50\n",
      "Creature: PitFiend\n",
      "Prediction: False\n",
      "Right Answer: False\n",
      "84\n",
      "Creature: Goblin\n",
      "Prediction: True\n",
      "Right Answer: True\n"
     ]
    }
   ],
   "source": [
    "indexes = list(val_X.index)\n",
    "i = 0\n",
    "for ind in indexes:\n",
    "    print(ind)\n",
    "    creature = H3_new.iloc[ind]\n",
    "    print(\"Creature:\", creature.Unit_name)\n",
    "    print(\"Prediction:\", preds_val[i])\n",
    "    print(\"Right Answer:\", creature.Is_level_1 == 1)\n",
    "    i+=1"
   ]
  },
  {
   "cell_type": "markdown",
   "metadata": {},
   "source": [
    "Сравнение с LogisticRegression из scikit-learn:"
   ]
  },
  {
   "cell_type": "code",
   "execution_count": 502,
   "metadata": {},
   "outputs": [
    {
     "name": "stdout",
     "output_type": "stream",
     "text": [
      "MAE на обучающей выборке:  0.01904761904761905\n",
      "MAE на тестовой выборке:  0.05555555555555555\n"
     ]
    }
   ],
   "source": [
    "from sklearn.linear_model import LogisticRegression\n",
    "\n",
    "H3_log_model = LogisticRegression()\n",
    "H3_log_model.fit(train_X, train_y)\n",
    "train_predictions = H3_log_model.predict(train_X)\n",
    "preds_val = H3_log_model.predict(val_X)\n",
    "print(\"MAE на обучающей выборке (модель из sklearn): \", mean_absolute_error(train_y, train_predictions))\n",
    "print(\"MAE на тестовой выборке (модель из sklearn): \", mean_absolute_error(val_y, preds_val))"
   ]
  },
  {
   "cell_type": "markdown",
   "metadata": {},
   "source": [
    "MAE на обучающей выборке отличаются несущественно, на тестовой - не отличаются совсем."
   ]
  },
  {
   "cell_type": "markdown",
   "metadata": {},
   "source": [
    "***Алгоритм K ближайших соседей***"
   ]
  },
  {
   "cell_type": "markdown",
   "metadata": {},
   "source": [
    "Поставим задачу классификации: пусть наш алгоритм предсказывает, к какому уровню принадлежит то или иное существо."
   ]
  },
  {
   "cell_type": "code",
   "execution_count": 520,
   "metadata": {},
   "outputs": [],
   "source": [
    "H3_knn = H3_data.copy()\n",
    "\n",
    "y = H3_knn.Level\n",
    "X = H3_knn[['Attack','Defence', 'Minimum Damage', 'Maximum Damage', 'Gold', 'Growth']]\n",
    "X.head()\n",
    "\n",
    "train_X, val_X, train_y, val_y = train_test_split(X, y, test_size = 0.2, random_state = 1)\n",
    "\n",
    "#scaler = StandardScaler()\n",
    "#train_X = scaler.fit_transform(train_X)\n",
    "#val_X = scaler.transform(val_X)"
   ]
  },
  {
   "cell_type": "markdown",
   "metadata": {},
   "source": [
    "Предусмотрим возможность использования различных метрик"
   ]
  },
  {
   "cell_type": "code",
   "execution_count": 521,
   "metadata": {},
   "outputs": [],
   "source": [
    "def minkowski_distance(a, b, p=2):\n",
    "    \n",
    "    dim = len(a) #количество измерений вектора\n",
    "    \n",
    "    distance = 0\n",
    "    \n",
    "    for d in range(dim):\n",
    "        distance += abs(a[d] - b[d])**p\n",
    "        \n",
    "    distance = distance**(1/p)\n",
    "    \n",
    "    return distance"
   ]
  },
  {
   "cell_type": "markdown",
   "metadata": {},
   "source": [
    "Сам алгоритм приведён ниже. Не предусмотрены \"веса\" соседей, зависящие от расстояния, берётся просто первая метка из перечисленных Counter'ом."
   ]
  },
  {
   "cell_type": "code",
   "execution_count": 522,
   "metadata": {},
   "outputs": [],
   "source": [
    "from collections import Counter\n",
    "\n",
    "def knn(X_train, X_test, y_train, y_test, k, p):\n",
    "    X_test = np.asarray(X_test)\n",
    "    X_train = np.asarray(X_train)\n",
    "    y_hat_test = []\n",
    "    for test_point in X_test:\n",
    "        distances = []\n",
    "        for train_point in X_train: \n",
    "            distances.append(minkowski_distance(test_point, train_point, p))\n",
    "            \n",
    "        df_dists = pd.DataFrame(data=distances, columns=['dist'], index=y_train.index) #создаём датасет расстояний\n",
    "        df_nn = df_dists.sort_values(by=['dist'], axis=0)[:k] #сортируем его и берём k ближайших точек\n",
    "        counter = Counter(y_train[df_nn.index]) #Считаем как часто встречается каждая метка ближайших точек\n",
    "        \n",
    "        prediction = counter.most_common()[0][0] #берём самую часто встречающуюся метку\n",
    "        y_hat_test.append(prediction)      \n",
    "        \n",
    "    return y_hat_test"
   ]
  },
  {
   "cell_type": "markdown",
   "metadata": {},
   "source": [
    "Посмотрим, насколько точность предсказания будет зависеть от выбираемого нами k"
   ]
  },
  {
   "cell_type": "code",
   "execution_count": 171,
   "metadata": {},
   "outputs": [
    {
     "data": {
      "text/plain": [
       "Text(0.5, 0, 'k = количество ближайших соседей')"
      ]
     },
     "execution_count": 171,
     "metadata": {},
     "output_type": "execute_result"
    },
    {
     "data": {
      "image/png": "[encoded data removed]",
      "text/plain": [
       "<Figure size 576x432 with 1 Axes>"
      ]
     },
     "metadata": {
      "needs_background": "light"
     },
     "output_type": "display_data"
    }
   ],
   "source": [
    "# Получаем accuracy для k от 1 до 99\n",
    "from sklearn.metrics import accuracy_score\n",
    "accuracies = []\n",
    "\n",
    "for k in range(1, 100):\n",
    "    y_hat_test = knn(train_X, val_X, train_y, val_y, k, p=2)\n",
    "    accuracies.append(accuracy_score(val_y, y_hat_test))\n",
    "\n",
    "fig, ax = mplp.subplots(figsize=(8,6))\n",
    "ax.plot(range(1,100), accuracies)\n",
    "ax.set_xlabel('k = количество ближайших соседей')\n",
    "\n"
   ]
  },
  {
   "cell_type": "code",
   "execution_count": 523,
   "metadata": {},
   "outputs": [
    {
     "name": "stdout",
     "output_type": "stream",
     "text": [
      "Creature: Minotaur\n",
      "Prediction: 5\n",
      "Right Answer: 5\n",
      "Creature: WaterElemental\n",
      "Prediction: 4\n",
      "Right Answer: 3\n",
      "Creature: ObsidianGargoyle\n",
      "Prediction: 2+\n",
      "Right Answer: 2+\n",
      "Creature: RoyalGriffin\n",
      "Prediction: 3+\n",
      "Right Answer: 3+\n",
      "Creature: Phoenix\n",
      "Prediction: 7\n",
      "Right Answer: 7+\n",
      "Creature: Magog\n",
      "Prediction: 3\n",
      "Right Answer: 2+\n",
      "Creature: Centaur\n",
      "Prediction: 1+\n",
      "Right Answer: 1\n",
      "Creature: Gog\n",
      "Prediction: 2\n",
      "Right Answer: 2\n",
      "Creature: HarpyHag\n",
      "Prediction: 3\n",
      "Right Answer: 2+\n",
      "Creature: OrcChieftain\n",
      "Prediction: 3\n",
      "Right Answer: 3+\n",
      "Creature: Mummy\n",
      "Prediction: 4\n",
      "Right Answer: 3\n",
      "Creature: EfreetSultan\n",
      "Prediction: 6+\n",
      "Right Answer: 6+\n",
      "Creature: Hobgoblin\n",
      "Prediction: 1\n",
      "Right Answer: 1+\n",
      "Creature: Thunderbird\n",
      "Prediction: 5+\n",
      "Right Answer: 5+\n",
      "Creature: MasterGremlin\n",
      "Prediction: 1\n",
      "Right Answer: 1+\n",
      "Creature: Dwarf\n",
      "Prediction: 2\n",
      "Right Answer: 2\n",
      "Creature: ArchMage\n",
      "Prediction: 4+\n",
      "Right Answer: 4+\n",
      "Creature: Ogre\n",
      "Prediction: 4\n",
      "Right Answer: 4\n",
      "Creature: BlackDragon\n",
      "Prediction: 7+\n",
      "Right Answer: 7+\n",
      "Creature: GrandElf\n",
      "Prediction: 3\n",
      "Right Answer: 3+\n",
      "Creature: Giant\n",
      "Prediction: 7\n",
      "Right Answer: 7\n",
      "Creature: Roc\n",
      "Prediction: 5+\n",
      "Right Answer: 5\n",
      "Creature: PsychicElemental\n",
      "Prediction: 6\n",
      "Right Answer: 6\n",
      "Creature: Gnoll\n",
      "Prediction: 1\n",
      "Right Answer: 1\n",
      "Creature: Zombie\n",
      "Prediction: 2\n",
      "Right Answer: 2+\n",
      "Creature: Imp\n",
      "Prediction: 1\n",
      "Right Answer: 1\n",
      "Creature: IronGolem\n",
      "Prediction: 3\n",
      "Right Answer: 3+\n",
      "Creature: GnollMarauder\n",
      "Prediction: 1+\n",
      "Right Answer: 1+\n",
      "Creature: GhostDragon\n",
      "Prediction: 7\n",
      "Right Answer: 7+\n"
     ]
    }
   ],
   "source": [
    "predictions_knn = knn(train_X, val_X, train_y, val_y, 10, 2)\n",
    "\n",
    "val_X = pd.DataFrame(data = val_X)\n",
    "indexes = list(val_X.index)\n",
    "i = 0\n",
    "\n",
    "for ind in indexes:\n",
    "    creature = H3_knn.iloc[ind]\n",
    "    print(\"Creature:\", creature.Unit_name)\n",
    "    print(\"Prediction:\", predictions_knn[i])\n",
    "    print(\"Right Answer:\", creature.Level)\n",
    "    i+=1"
   ]
  },
  {
   "cell_type": "markdown",
   "metadata": {},
   "source": [
    "Точность предсказания не слишком высока, но ошибки вполне объяснимы (в том смысле, что для многих ошибок существует действительное объяснение на языке баланса замков самой игры - в рамках одного замка существа одного уровня могут быть сильнее существ аналогичного уровня в других замках, в ущерб своим собратьям, и наоборот). "
   ]
  },
  {
   "cell_type": "code",
   "execution_count": 524,
   "metadata": {},
   "outputs": [
    {
     "name": "stdout",
     "output_type": "stream",
     "text": [
      "Точность моей модели: 0.5172413793103449, точность модели из sklearn: 0.5172413793103449 \n"
     ]
    }
   ],
   "source": [
    "from sklearn.neighbors import KNeighborsClassifier \n",
    "\n",
    "H3_knn_model = KNeighborsClassifier()\n",
    "H3_knn_model.fit(train_X, train_y)\n",
    "sklearn_knn_predictions = H3_knn_model.predict(val_X)\n",
    "a1 = accuracy_score(val_y, predictions_knn)\n",
    "a2 = accuracy_score(val_y, sklearn_knn_predictions)\n",
    "print(\"Точность моей модели: {0}, точность модели из sklearn: {1} \".format(a1, a2))"
   ]
  },
  {
   "cell_type": "markdown",
   "metadata": {},
   "source": [
    "Разница в точностях на самом деле зависит от выборки. "
   ]
  },
  {
   "cell_type": "markdown",
   "metadata": {},
   "source": [
    "***Метод опорных векторов***"
   ]
  },
  {
   "cell_type": "markdown",
   "metadata": {},
   "source": [
    "Реализуем машину опорных векторов в виде класса. Поставим задачу классификации существ на \"сильных\" и \"слабых\" в зависимости от двух (для удобной визуализации, но вообще можно и больше чем для двух) предикторов-размерностей. Данные будем представлять в виде словаря, так удобнее."
   ]
  },
  {
   "cell_type": "code",
   "execution_count": 173,
   "metadata": {},
   "outputs": [],
   "source": [
    "import matplotlib.pyplot as plt\n",
    "from matplotlib import style\n",
    "import numpy as np\n",
    "#style.use('ggplot')\n",
    "\n",
    "class Support_Vector_Machine:\n",
    "    def __init__(self, visualization=True):\n",
    "        self.visualization = visualization\n",
    "        self.colors = {1:'r',-1:'b'}\n",
    "        if self.visualization:\n",
    "            self.fig = plt.figure()\n",
    "            self.ax = self.fig.add_subplot(1,1,1)\n",
    "    #обучение\n",
    "    def fit(self, data):\n",
    "        self.data = data\n",
    "        # { ||w||: [w,b] }\n",
    "        opt_dict = {}\n",
    "\n",
    "        transforms = [[1,1],\n",
    "                      [-1,1],\n",
    "                      [-1,-1],\n",
    "                      [1,-1]]\n",
    "\n",
    "        all_data = []\n",
    "        for yi in self.data:\n",
    "            for featureset in self.data[yi]:\n",
    "                for feature in featureset:\n",
    "                    all_data.append(feature)\n",
    "\n",
    "        self.max_feature_value = max(all_data)\n",
    "        self.min_feature_value = min(all_data)\n",
    "        all_data = None\n",
    "        # опорные вектора: yi(xi.w+b) = 1\n",
    "        step_sizes = [self.max_feature_value * 0.1,\n",
    "                      self.max_feature_value * 0.01,\n",
    "                      #это место ест много производительности\n",
    "                      self.max_feature_value * 0.001,\n",
    "                      ]\n",
    "        b_range_multiple = 2\n",
    "        #для b не нужно брать так много шагов\n",
    "        b_multiple = 5\n",
    "        latest_optimum = self.max_feature_value*10\n",
    "        \n",
    "        for step in step_sizes:\n",
    "            w = np.array([latest_optimum,latest_optimum])\n",
    "            # оптимизируем на выпуклой поверхности\n",
    "            optimized = False\n",
    "            while not optimized:\n",
    "                for b in np.arange(-1*(self.max_feature_value*b_range_multiple),\n",
    "                                   self.max_feature_value*b_range_multiple,\n",
    "                                   step*b_multiple):\n",
    "                    for transformation in transforms:\n",
    "                        w_t = w*transformation\n",
    "                        found_option = True\n",
    "                        for i in self.data:\n",
    "                            for xi in self.data[i]:\n",
    "                                yi=i\n",
    "                                if not yi*(np.dot(w_t,xi)+b) >= 1:\n",
    "                                    found_option = False\n",
    "                                    #print(xi,':',yi*(np.dot(w_t,xi)+b))\n",
    "                                    \n",
    "                        if found_option:\n",
    "                            opt_dict[np.linalg.norm(w_t)] = [w_t,b]\n",
    "\n",
    "                if w[0] < 0:\n",
    "                    optimized = True\n",
    "                    print('Оптимизировали (1 шаг)')\n",
    "                else:\n",
    "                    w = w - step\n",
    "\n",
    "            norms = sorted([n for n in opt_dict])\n",
    "            #||w|| : [w,b]\n",
    "            opt_choice = opt_dict[norms[0]]\n",
    "            self.w = opt_choice[0]\n",
    "            self.b = opt_choice[1]\n",
    "            latest_optimum = opt_choice[0][0]+step*2\n",
    "            \n",
    "        for i in self.data:\n",
    "            for xi in self.data[i]:\n",
    "                yi=i\n",
    "                print(xi,':',yi*(np.dot(self.w,xi)+self.b))            \n",
    "\n",
    "    def predict(self,features):\n",
    "        # sign( x.w+b )\n",
    "        classification = np.sign(np.dot(np.array(features),self.w)+self.b)\n",
    "        if classification !=0 and self.visualization:\n",
    "            self.ax.scatter(features[0], features[1], s=120, marker='o', edgecolors = 'white',\n",
    "                            c=self.colors[classification])\n",
    "            #self.ax.annotate(label, xy = (features[0], features[1]),\n",
    "                             #xytext = (5, -5), textcoords = 'offset points' )\n",
    "        return classification\n",
    "\n",
    "    def visualize(self):\n",
    "        arr_temp = list(train_X.keys())\n",
    "        [[self.ax.scatter(x[0],x[1],s=80, edgecolors = 'black', \n",
    "                          color=self.colors[i]) for x in train_X_final[i]] for i in train_X_final]\n",
    "        # hyperplane = x.w+b\n",
    "        # v = x.w+b\n",
    "        # psv = 1\n",
    "        # nsv = -1\n",
    "        # dec = 0\n",
    "        def hyperplane(x,w,b,v):\n",
    "            return (-w[0]*x-b+v) / w[1]\n",
    "\n",
    "        datarange = (self.min_feature_value*0.9,self.max_feature_value*1.1)\n",
    "        hyp_x_min = datarange[0]\n",
    "        hyp_x_max = datarange[1]\n",
    "\n",
    "        # (w.x+b) = 1\n",
    "        # гиперплоскость положительного опорного вектора\n",
    "        psv1 = hyperplane(hyp_x_min, self.w, self.b, 1)\n",
    "        psv2 = hyperplane(hyp_x_max, self.w, self.b, 1)\n",
    "        self.ax.plot([hyp_x_min,hyp_x_max],[psv1,psv2], 'k')\n",
    "\n",
    "        # (w.x+b) = -1\n",
    "        # гиперплоскость отрицательного опорного вектора\n",
    "        nsv1 = hyperplane(hyp_x_min, self.w, self.b, -1)\n",
    "        nsv2 = hyperplane(hyp_x_max, self.w, self.b, -1)\n",
    "        self.ax.plot([hyp_x_min,hyp_x_max],[nsv1,nsv2], 'k')\n",
    "\n",
    "        # (w.x+b) = 0\n",
    "        #итоговая гиперплоскость\n",
    "        db1 = hyperplane(hyp_x_min, self.w, self.b, 0)\n",
    "        db2 = hyperplane(hyp_x_max, self.w, self.b, 0)\n",
    "        self.ax.plot([hyp_x_min,hyp_x_max],[db1,db2], 'y--')\n",
    "\n",
    "        plt.show()\n",
    "        \n",
    "\n"
   ]
  },
  {
   "cell_type": "markdown",
   "metadata": {},
   "source": [
    "В следующем не очень разборчивом фрагменте кода я переделываю свои данные под реализацию SVM. Считая средние показатели Attack и Defence, и беря наиболее близкие к ним (как в knn), я делаю эти близкие обучающей выборкой, основываясь на которой строятся опорные вектора и соответствующие им гиперплоскости. Из-за недочёта где-то в той неразберихе кода в реализации SVM мне пришлось сильно ограничить тренировочное множество точек. "
   ]
  },
  {
   "cell_type": "code",
   "execution_count": 174,
   "metadata": {},
   "outputs": [
    {
     "name": "stdout",
     "output_type": "stream",
     "text": [
      "mean attack: 11.659574468085106, mean defence: 10.843971631205674\n",
      "Оптимизировали (1 шаг)\n",
      "Оптимизировали (1 шаг)\n",
      "Оптимизировали (1 шаг)\n",
      "[12 12] : 1.0079999999969296\n",
      "[15 15] : 3.0599999999958882\n",
      "[16 16] : 3.743999999995541\n",
      "[15 14] : 2.717999999996062\n",
      "[15 14] : 2.717999999996062\n",
      "[18 18] : 5.111999999994847\n",
      "[4 5] : 4.12200000000047\n",
      "[6 5] : 3.4380000000008164\n",
      "[6 3] : 4.122000000000469\n",
      "[6 3] : 4.122000000000469\n",
      "[8 8] : 1.7280000000016837\n",
      "[9 9] : 1.0440000000020309\n"
     ]
    },
    {
     "data": {
      "image/png": "[encoded data removed]",
      "text/plain": [
       "<Figure size 432x288 with 1 Axes>"
      ]
     },
     "metadata": {
      "needs_background": "light"
     },
     "output_type": "display_data"
    }
   ],
   "source": [
    "H3_svm = H3_data.copy()\n",
    "H3_svm.head()\n",
    "\n",
    "mean_attack = H3_svm.Attack.mean() \n",
    "mean_defence = H3_svm.Defence.mean()\n",
    "print(\"mean attack: {0}, mean defence: {1}\".format(mean_attack, mean_defence))\n",
    "\n",
    "is_strong = []\n",
    "\n",
    "for index, row in H3_new.iterrows():\n",
    "    if row['Attack'] > mean_attack and row['Defence'] > mean_defence: \n",
    "        is_strong.append(1)\n",
    "    else:\n",
    "        is_strong.append(0)\n",
    "      \n",
    "H3_svm = H3_svm[['Unit_name', 'Attack', 'Defence']]\n",
    "H3_svm.insert(2, 'Is_strong', is_strong, True)\n",
    "\n",
    "means= [mean_attack, mean_defence]\n",
    "Dict_temp = H3_svm[['Attack', 'Defence']]\n",
    "Dict_temp = Dict_temp.to_dict('split')\n",
    "Dict_temp2 = {i: Dict_temp['data'][i] for i, _ in enumerate(Dict_temp['data'])}\n",
    "\n",
    "train_split = int(0.8*len(Dict_temp2))\n",
    "train_X = {j: Dict_temp2[j] for j in range(train_split)}\n",
    "test_X = {k: Dict_temp2[k] for k in range(train_split, len(Dict_temp2))}\n",
    "\n",
    "y = (H3_svm[['Is_strong']]).to_dict('split')\n",
    "y = {i: y['data'][i] for i, _ in enumerate(y['data'])}\n",
    "train_y = {j: y[j] for j in range(train_split)}\n",
    "test_y = {k: y[k] for k in range(train_split, len(Dict_temp2))}\n",
    "train_X_final = {1: [], -1: []}\n",
    "\n",
    "for i in train_y:\n",
    "    if H3_svm.iloc[i].Is_strong == 1 and train_X[i][0] < 20 and train_X[i][1] < 20:\n",
    "        train_X_final[1].append(train_X[i])\n",
    "    elif H3_svm.iloc[i].Is_strong == 0 and train_X[i][0] < 20 and train_X[i][1] < 20:\n",
    "        train_X_final[-1].append(train_X[i])\n",
    "train_X_final[1] = train_X_final[1][0:6]\n",
    "train_X_final[-1] = train_X_final[-1][0:6]\n",
    "train_X_final[1] = np.asarray(train_X_final[1])\n",
    "train_X_final[-1]  = np.asarray(train_X_final[-1])\n",
    "\n",
    "\n",
    "test_X_final = []\n",
    "for i in test_y:\n",
    "    if test_X[i][0] < 20 and test_X[i][1] < 20:\n",
    "        test_X_final.append(test_X[i])\n",
    "        \n",
    "svm = Support_Vector_Machine()\n",
    "svm.fit(data=train_X_final)\n",
    "\n",
    "predict_us = test_X_final\n",
    "\n",
    "for p in predict_us :\n",
    "    svm.predict(p)\n",
    "\n",
    "svm.visualize()"
   ]
  },
  {
   "cell_type": "markdown",
   "metadata": {},
   "source": [
    "Кружки с чёрными окантовками - это точки обучающей выборки, на основе которых строились опорные вектора, кружки чуть большего  размера - точки тестовой. "
   ]
  },
  {
   "cell_type": "markdown",
   "metadata": {},
   "source": [
    "***Случайный лес и дерево принятия решений***\n",
    "\n",
    "В моём случае, дерево принятия решений - класс, метод init которого вызывается из класса случайного леса. Таким образом, в следующих двух блоках кода реализован как алгоритм для единичного дерева, так и для целого леса."
   ]
  },
  {
   "cell_type": "markdown",
   "metadata": {},
   "source": [
    "Поставим задачу классификации: пусть дерево принятия решений (как и случайный лес) предсказывает уровень существа по заданным предикторам."
   ]
  },
  {
   "cell_type": "code",
   "execution_count": 369,
   "metadata": {},
   "outputs": [],
   "source": [
    "import math\n",
    "class TreeEnsemble():\n",
    "    def __init__(self, x, y, n_trees, sample_sz, min_leaf=5): #min_leaf - минимальное количество строк для создания листа\n",
    "        np.random.seed(42)\n",
    "        self.x,self.y,self.sample_sz,self.min_leaf = x,y,sample_sz,min_leaf\n",
    "        self.trees = [self.create_tree() for i in range(n_trees)] #создаём n деревьев\n",
    "\n",
    "    def create_tree(self):\n",
    "        idxs = np.random.permutation(len(self.y))[:self.sample_sz] #на случайных строках данных\n",
    "        return DecisionTree(self.x.iloc[idxs], self.y.iloc[idxs], \n",
    "                    idxs=np.array(range(self.sample_sz)), min_leaf=self.min_leaf)\n",
    "        \n",
    "    def predict(self, x):\n",
    "        return np.mean([t.predict(x) for t in self.trees], axis=0) #среднее из\n",
    "\n"
   ]
  },
  {
   "cell_type": "code",
   "execution_count": 462,
   "metadata": {},
   "outputs": [],
   "source": [
    "def std_agg(cnt, s1, s2): return math.sqrt((s2/cnt) - (s1/cnt)**2) #известная формула для дисперсии СВ\n",
    "\n",
    "class DecisionTree():\n",
    "    def __init__(self, x, y, idxs, min_leaf=5):\n",
    "        self.x,self.y,self.idxs,self.min_leaf = x,y,idxs,min_leaf\n",
    "        self.n,self.c = len(idxs), x.shape[1]\n",
    "        self.val = np.mean(y.iloc[idxs]) \n",
    "        self.score = float('inf') #изначальная энтропия\n",
    "        self.find_varsplit()\n",
    "        \n",
    "    def find_varsplit(self):\n",
    "        for i in range(self.c): self.find_better_split(i)\n",
    "        if self.score == float('inf'): return\n",
    "        x = self.split_col\n",
    "        lhs = np.nonzero(x<=self.split)[0] #все значения <= переменной разбиения уходят в левое поддерево\n",
    "        rhs = np.nonzero(x>self.split)[0] #все значения >  - в правое\n",
    "        self.lhs = DecisionTree(self.x, self.y, self.idxs[lhs]) #рекурсивно строим поддеревья\n",
    "        self.rhs = DecisionTree(self.x, self.y, self.idxs[rhs]) \n",
    "\n",
    "    def find_better_split(self, var_idx): #поиск разбиения с минимальной энтропией\n",
    "        x,y = self.x.values[self.idxs,var_idx], self.y.iloc[self.idxs]\n",
    "        sort_idx = np.argsort(x)\n",
    "        sort_y,sort_x = y.iloc[sort_idx], x[sort_idx]\n",
    "        rhs_cnt,rhs_sum,rhs_sum2 = self.n, sort_y.sum(), (sort_y**2).sum()\n",
    "        lhs_cnt,lhs_sum,lhs_sum2 = 0,0.,0.\n",
    "\n",
    "        for i in range(0,self.n-self.min_leaf):\n",
    "            xi,yi = sort_x[i],sort_y.iloc[i]\n",
    "            lhs_cnt += 1; rhs_cnt -= 1\n",
    "            lhs_sum += yi; rhs_sum -= yi\n",
    "            lhs_sum2 += yi**2; rhs_sum2 -= yi**2\n",
    "            if i<self.min_leaf-1 or xi==sort_x[i+1]:\n",
    "                continue\n",
    "\n",
    "            lhs_std = std_agg(lhs_cnt, lhs_sum, lhs_sum2)\n",
    "            rhs_std = std_agg(rhs_cnt, rhs_sum, rhs_sum2)\n",
    "            curr_score = lhs_std*lhs_cnt + rhs_std*rhs_cnt\n",
    "            if curr_score<self.score: \n",
    "                self.var_idx,self.score,self.split = var_idx,curr_score,xi\n",
    "\n",
    "    @property\n",
    "    def split_name(self): return self.x.columns[self.var_idx] \n",
    "    \n",
    "    @property\n",
    "    def split_col(self): return self.x.values[self.idxs,self.var_idx]\n",
    "\n",
    "    @property\n",
    "    def is_leaf(self): return self.score == float('inf')\n",
    "    \n",
    "    def __repr__(self): #на случай если пригодится вывести строковое представление дерева\n",
    "        s = f'n: {self.n}; val:{self.val}'\n",
    "        if not self.is_leaf:\n",
    "            s += f'; score:{self.score}; split:{self.split}; var:{self.split_name}'\n",
    "        return s\n",
    "\n",
    "    def predict(self, x):\n",
    "        return np.array([self.predict_row(xi) for xi in x])\n",
    "\n",
    "    def predict_row(self, xi):\n",
    "        if self.is_leaf: return self.val\n",
    "        t = self.lhs if xi[self.var_idx]<=self.split else self.rhs\n",
    "        return t.predict_row(xi) #тоже рекурсивно"
   ]
  },
  {
   "cell_type": "markdown",
   "metadata": {},
   "source": [
    "Мне понадобилось написать эту довольно глупо выглядящую функцию для преобразования строк датасета к виду, в котором моя модель могла бы с ним работать (в изначальном датасете параметр 'Level' был строкового типа). При анализе графика и выходных данных с точки зрения реальных данных, стоит иметь в виду что 4 - это на самом деле 2+ и так далее."
   ]
  },
  {
   "cell_type": "code",
   "execution_count": 534,
   "metadata": {},
   "outputs": [],
   "source": [
    "def H3_convert(H3_new1):\n",
    "    for index, row in H3_new1.iterrows():\n",
    "        if row['Level'] == '1+': \n",
    "            H3_new1.at[index, 'Level'] = 2\n",
    "        if row['Level'] == '2':\n",
    "            H3_new1.at[index, 'Level'] = 3\n",
    "        if row['Level'] == '2+': \n",
    "            H3_new1.at[index, 'Level'] = 4\n",
    "        if row['Level'] == '3': \n",
    "            H3_new1.at[index, 'Level'] = 5\n",
    "        if row['Level'] == '3+' or row['Level'] == '3+*': \n",
    "            H3_new1.at[index, 'Level'] = 6\n",
    "        if row['Level'] == '4': \n",
    "            H3_new1.at[index, 'Level'] = 7\n",
    "        if row['Level'] == '4+' or row['Level'] == '4+*': \n",
    "            H3_new1.at[index, 'Level'] = 8\n",
    "        if row['Level'] == '5': \n",
    "            H3_new1.at[index, 'Level'] = 9\n",
    "        if row['Level'] == '5+' or row['Level'] == '5+*': \n",
    "            H3_new1.at[index, 'Level'] = 10\n",
    "        if row['Level'] == '6': \n",
    "            H3_new1.at[index, 'Level'] = 11\n",
    "        if row['Level'] == '6+': \n",
    "            H3_new1.at[index, 'Level'] = 12\n",
    "        if row['Level'] == '7': \n",
    "            H3_new1.at[index, 'Level'] = 13\n",
    "        if row['Level'] == '7+': \n",
    "            H3_new1.at[index, 'Level'] = 14\n",
    "    H3_new1[\"Level\"] = H3_new1[\"Level\"].astype(str).astype(int)\n",
    "    return H3_new1"
   ]
  },
  {
   "cell_type": "code",
   "execution_count": 535,
   "metadata": {
    "scrolled": true
   },
   "outputs": [
    {
     "data": {
      "text/plain": [
       "<matplotlib.collections.PathCollection at 0x13994d2ef48>"
      ]
     },
     "execution_count": 535,
     "metadata": {},
     "output_type": "execute_result"
    },
    {
     "data": {
      "image/png": "[encoded data removed]",
      "text/plain": [
       "<Figure size 432x288 with 1 Axes>"
      ]
     },
     "metadata": {
      "needs_background": "light"
     },
     "output_type": "display_data"
    }
   ],
   "source": [
    "H3_new1 = H3_data.copy()\n",
    "    \n",
    "H3_new1 = H3_convert(H3_new1)\n",
    "#H3_new1.dtypes\n",
    "\n",
    "\n",
    "X = H3_new1[['Attack','Defence','Minimum Damage','Health','Speed','Growth']]\n",
    "y = H3_new1['Level']\n",
    "train_X, val_X, train_y, val_y = train_test_split(X, y, random_state = 0)\n",
    "#train_X = pd.DataFrame(data = train_X)\n",
    "#train_y = pd.DataFrame(data = train_y)\n",
    "ens = TreeEnsemble(train_X, train_y, 5, 30)\n",
    "preds = ens.predict(val_X.values)\n",
    "plt.scatter(val_y, preds, alpha=0.4, s=12)"
   ]
  },
  {
   "cell_type": "code",
   "execution_count": 542,
   "metadata": {},
   "outputs": [
    {
     "name": "stdout",
     "output_type": "stream",
     "text": [
      "R2 моей модели: 0.9514920386945981\n"
     ]
    }
   ],
   "source": [
    "from sklearn.metrics import r2_score\n",
    "print(\"R2 моей модели: {0}\".format(r2_score(val_y, preds)))"
   ]
  },
  {
   "cell_type": "markdown",
   "metadata": {},
   "source": [
    "Как видно из графика и r2-метрики, предсказания модели на валидационной выборке очень редко отличаются от истинных значений. Такую высокую точность можно объяснить простотой датасета и его малыми размерами."
   ]
  },
  {
   "cell_type": "code",
   "execution_count": 543,
   "metadata": {},
   "outputs": [
    {
     "name": "stdout",
     "output_type": "stream",
     "text": [
      "R2 модели из sklearn: 0.9745720458700349\n"
     ]
    }
   ],
   "source": [
    "from sklearn.ensemble import RandomForestClassifier\n",
    "\n",
    "H3_RF_model = RandomForestClassifier()\n",
    "H3_RF_model.fit(train_X, train_y)\n",
    "sklearn_RF_predictions = H3_RF_model.predict(val_X)\n",
    "\n",
    "print(\"R2 модели из sklearn: {0}\".format(r2_score(val_y, sklearn_RF_predictions)))"
   ]
  },
  {
   "cell_type": "markdown",
   "metadata": {},
   "source": [
    "Отдельно: классификация на основе одного дерева принятия решений. "
   ]
  },
  {
   "cell_type": "code",
   "execution_count": 525,
   "metadata": {},
   "outputs": [
    {
     "data": {
      "text/plain": [
       "<matplotlib.collections.PathCollection at 0x13995a08bc8>"
      ]
     },
     "execution_count": 525,
     "metadata": {},
     "output_type": "execute_result"
    },
    {
     "data": {
      "image/png": "[encoded data removed]",
      "text/plain": [
       "<Figure size 432x288 with 1 Axes>"
      ]
     },
     "metadata": {
      "needs_background": "light"
     },
     "output_type": "display_data"
    }
   ],
   "source": [
    "H3_DT = H3_data.copy()\n",
    "    \n",
    "H3_DT = H3_convert(H3_DT)\n",
    "#H3_DT.dtypes\n",
    "\n",
    "X = H3_DT[['Attack','Defence','Minimum Damage','Health','Speed','Growth']]\n",
    "y = H3_DT['Level']\n",
    "train_X, val_X, train_y, val_y = train_test_split(X, y, random_state = 0)\n",
    "#train_X = pd.DataFrame(data = train_X)\n",
    "#train_y = pd.DataFrame(data = train_y)\n",
    "idxs = [i for i in range(len(train_X))]\n",
    "idxs = np.asarray(idxs)\n",
    "ens = DecisionTree(train_X, train_y, idxs)\n",
    "preds = ens.predict(val_X.values)\n",
    "plt.scatter(val_y, preds, alpha=0.4, s=12)"
   ]
  },
  {
   "cell_type": "code",
   "execution_count": 539,
   "metadata": {},
   "outputs": [
    {
     "name": "stdout",
     "output_type": "stream",
     "text": [
      "R2 моей модели: 0.9514920386945981\n"
     ]
    }
   ],
   "source": [
    "from sklearn.metrics import r2_score\n",
    "print(\"R2 моей модели: {0}\".format(r2_score(val_y, preds)))\n"
   ]
  },
  {
   "cell_type": "code",
   "execution_count": 541,
   "metadata": {},
   "outputs": [
    {
     "name": "stdout",
     "output_type": "stream",
     "text": [
      "R2 модели из sklearn: 0.9611101878012298\n"
     ]
    }
   ],
   "source": [
    "from sklearn.tree import DecisionTreeClassifier\n",
    "\n",
    "H3_DT_model = DecisionTreeClassifier()\n",
    "H3_DT_model.fit(train_X, train_y)\n",
    "sklearn_DT_predictions = H3_DT_model.predict(val_X)\n",
    "\n",
    "print(\"R2 модели из sklearn: {0}\".format(r2_score(val_y, sklearn_DT_predictions)))"
   ]
  },
  {
   "cell_type": "markdown",
   "metadata": {},
   "source": [
    "Обе модели по точности сравнимы с аналогичными из sklearn, вызванными без каких-то особенных аргументов, регуляризаций и тд. Что, впрочем, не делает их реализации хотя бы близко такими же удобными и эффективными."
   ]
  }
 ],
 "metadata": {
  "kernelspec": {
   "display_name": "Python 3",
   "language": "python",
   "name": "python3"
  },
  "language_info": {
   "codemirror_mode": {
    "name": "ipython",
    "version": 3
   },
   "file_extension": ".py",
   "mimetype": "text/x-python",
   "name": "python",
   "nbconvert_exporter": "python",
   "pygments_lexer": "ipython3",
   "version": "3.7.9"
  }
 },
 "nbformat": 4,
 "nbformat_minor": 4
}
